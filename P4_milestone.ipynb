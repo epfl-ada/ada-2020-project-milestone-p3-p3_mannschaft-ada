{
 "cells": [
  {
   "cell_type": "code",
   "execution_count": 101,
   "metadata": {
    "pycharm": {
     "name": "#%%\n"
    }
   },
   "outputs": [],
   "source": [
    "import matplotlib.pyplot as plt\n",
    "import pandas as pd\n",
    "from sklearn import linear_model\n",
    "from sklearn.metrics import roc_curve, auc\n",
    "from sklearn.model_selection import cross_val_predict\n",
    "from sklearn.neural_network import MLPClassifier, MLPRegressor\n",
    "from sklearn import svm\n",
    "from sklearn.naive_bayes import GaussianNB\n",
    "\n",
    "import pandas as pd\n",
    "import numpy as np\n",
    "import matplotlib.pyplot as plt\n",
    "import seaborn as sns \n",
    "%matplotlib inline\n",
    "\n",
    "# importing the libraries for logistic regression analysis\n",
    "from sklearn.linear_model import LogisticRegression\n",
    "from sklearn.neighbors import KNeighborsClassifier\n",
    "from sklearn.model_selection import cross_val_predict\n",
    "from sklearn.model_selection import cross_val_score\n",
    "from sklearn.metrics import mean_squared_error, auc, roc_curve\n",
    "from sklearn.ensemble import RandomForestClassifier\n",
    "from sklearn.model_selection import train_test_split"
   ]
  },
  {
   "cell_type": "code",
   "execution_count": 102,
   "metadata": {
    "pycharm": {
     "name": "#%%\n"
    }
   },
   "outputs": [],
   "source": [
    "def strandardize(df):\n",
    "    # We select a column\n",
    "    for col in df.columns:\n",
    "        # We check if it is a binary variable\n",
    "        if set(df[col].values) != {0, 1}:\n",
    "            # If it is not a binary variable,\n",
    "            # then standardization is achieved\n",
    "            df[col] = (df[col] - df[col].mean())/df[col].std()\n",
    "    # Returns the table with all\n",
    "    # standardized values, column by column\n",
    "    return df"
   ]
  },
  {
   "cell_type": "markdown",
   "metadata": {},
   "source": [
    "# 0. Data pre-processing"
   ]
  },
  {
   "cell_type": "code",
   "execution_count": 103,
   "metadata": {},
   "outputs": [
    {
     "data": {
      "text/html": [
       "<div>\n",
       "<style scoped>\n",
       "    .dataframe tbody tr th:only-of-type {\n",
       "        vertical-align: middle;\n",
       "    }\n",
       "\n",
       "    .dataframe tbody tr th {\n",
       "        vertical-align: top;\n",
       "    }\n",
       "\n",
       "    .dataframe thead th {\n",
       "        text-align: right;\n",
       "    }\n",
       "</style>\n",
       "<table border=\"1\" class=\"dataframe\">\n",
       "  <thead>\n",
       "    <tr style=\"text-align: right;\">\n",
       "      <th></th>\n",
       "      <th>warstds</th>\n",
       "      <th>ager</th>\n",
       "      <th>agexp</th>\n",
       "      <th>anoc</th>\n",
       "      <th>army85</th>\n",
       "      <th>autch98</th>\n",
       "      <th>auto4</th>\n",
       "      <th>autonomy</th>\n",
       "      <th>avgnabo</th>\n",
       "      <th>centpol3</th>\n",
       "      <th>...</th>\n",
       "      <th>seceduc</th>\n",
       "      <th>second</th>\n",
       "      <th>semipol3</th>\n",
       "      <th>sip2</th>\n",
       "      <th>sxpnew</th>\n",
       "      <th>sxpsq</th>\n",
       "      <th>tnatwar</th>\n",
       "      <th>trade</th>\n",
       "      <th>warhist</th>\n",
       "      <th>xconst</th>\n",
       "    </tr>\n",
       "  </thead>\n",
       "  <tbody>\n",
       "    <tr>\n",
       "      <th>0</th>\n",
       "      <td>0</td>\n",
       "      <td>34.461765</td>\n",
       "      <td>8.510845</td>\n",
       "      <td>0</td>\n",
       "      <td>129472.9042</td>\n",
       "      <td>0</td>\n",
       "      <td>3.925812</td>\n",
       "      <td>0.005151</td>\n",
       "      <td>0.432955</td>\n",
       "      <td>1</td>\n",
       "      <td>...</td>\n",
       "      <td>43.770298</td>\n",
       "      <td>0.253</td>\n",
       "      <td>0.058441</td>\n",
       "      <td>0.46176</td>\n",
       "      <td>0.158275</td>\n",
       "      <td>0.052989</td>\n",
       "      <td>0.443259</td>\n",
       "      <td>72.881375</td>\n",
       "      <td>0</td>\n",
       "      <td>3.995912</td>\n",
       "    </tr>\n",
       "    <tr>\n",
       "      <th>1</th>\n",
       "      <td>0</td>\n",
       "      <td>34.346348</td>\n",
       "      <td>8.478997</td>\n",
       "      <td>0</td>\n",
       "      <td>129413.0225</td>\n",
       "      <td>0</td>\n",
       "      <td>10.000000</td>\n",
       "      <td>0.000000</td>\n",
       "      <td>0.045052</td>\n",
       "      <td>1</td>\n",
       "      <td>...</td>\n",
       "      <td>43.588363</td>\n",
       "      <td>0.253</td>\n",
       "      <td>0.000000</td>\n",
       "      <td>0.00000</td>\n",
       "      <td>0.158321</td>\n",
       "      <td>0.052663</td>\n",
       "      <td>1.000000</td>\n",
       "      <td>72.900089</td>\n",
       "      <td>0</td>\n",
       "      <td>1.000000</td>\n",
       "    </tr>\n",
       "    <tr>\n",
       "      <th>2</th>\n",
       "      <td>0</td>\n",
       "      <td>77.000000</td>\n",
       "      <td>8.481015</td>\n",
       "      <td>0</td>\n",
       "      <td>130431.0145</td>\n",
       "      <td>0</td>\n",
       "      <td>10.000000</td>\n",
       "      <td>0.000000</td>\n",
       "      <td>0.030034</td>\n",
       "      <td>1</td>\n",
       "      <td>...</td>\n",
       "      <td>43.538181</td>\n",
       "      <td>0.253</td>\n",
       "      <td>0.000000</td>\n",
       "      <td>0.00000</td>\n",
       "      <td>0.158425</td>\n",
       "      <td>0.052891</td>\n",
       "      <td>2.000000</td>\n",
       "      <td>72.962880</td>\n",
       "      <td>0</td>\n",
       "      <td>1.000000</td>\n",
       "    </tr>\n",
       "    <tr>\n",
       "      <th>3</th>\n",
       "      <td>0</td>\n",
       "      <td>78.000000</td>\n",
       "      <td>8.451628</td>\n",
       "      <td>0</td>\n",
       "      <td>126781.6866</td>\n",
       "      <td>0</td>\n",
       "      <td>10.000000</td>\n",
       "      <td>0.000000</td>\n",
       "      <td>0.022526</td>\n",
       "      <td>1</td>\n",
       "      <td>...</td>\n",
       "      <td>43.490005</td>\n",
       "      <td>0.253</td>\n",
       "      <td>0.000000</td>\n",
       "      <td>0.00000</td>\n",
       "      <td>0.159006</td>\n",
       "      <td>0.052902</td>\n",
       "      <td>2.000000</td>\n",
       "      <td>73.102449</td>\n",
       "      <td>0</td>\n",
       "      <td>1.000000</td>\n",
       "    </tr>\n",
       "    <tr>\n",
       "      <th>4</th>\n",
       "      <td>0</td>\n",
       "      <td>79.000000</td>\n",
       "      <td>8.500172</td>\n",
       "      <td>0</td>\n",
       "      <td>130979.2470</td>\n",
       "      <td>0</td>\n",
       "      <td>10.000000</td>\n",
       "      <td>0.000000</td>\n",
       "      <td>0.022526</td>\n",
       "      <td>1</td>\n",
       "      <td>...</td>\n",
       "      <td>43.602238</td>\n",
       "      <td>0.253</td>\n",
       "      <td>0.000000</td>\n",
       "      <td>0.00000</td>\n",
       "      <td>0.158074</td>\n",
       "      <td>0.052706</td>\n",
       "      <td>2.000000</td>\n",
       "      <td>72.850389</td>\n",
       "      <td>0</td>\n",
       "      <td>1.000000</td>\n",
       "    </tr>\n",
       "  </tbody>\n",
       "</table>\n",
       "<p>5 rows × 91 columns</p>\n",
       "</div>"
      ],
      "text/plain": [
       "   warstds       ager     agexp  anoc       army85  autch98      auto4  \\\n",
       "0        0  34.461765  8.510845     0  129472.9042        0   3.925812   \n",
       "1        0  34.346348  8.478997     0  129413.0225        0  10.000000   \n",
       "2        0  77.000000  8.481015     0  130431.0145        0  10.000000   \n",
       "3        0  78.000000  8.451628     0  126781.6866        0  10.000000   \n",
       "4        0  79.000000  8.500172     0  130979.2470        0  10.000000   \n",
       "\n",
       "   autonomy   avgnabo  centpol3  ...    seceduc  second  semipol3     sip2  \\\n",
       "0  0.005151  0.432955         1  ...  43.770298   0.253  0.058441  0.46176   \n",
       "1  0.000000  0.045052         1  ...  43.588363   0.253  0.000000  0.00000   \n",
       "2  0.000000  0.030034         1  ...  43.538181   0.253  0.000000  0.00000   \n",
       "3  0.000000  0.022526         1  ...  43.490005   0.253  0.000000  0.00000   \n",
       "4  0.000000  0.022526         1  ...  43.602238   0.253  0.000000  0.00000   \n",
       "\n",
       "     sxpnew     sxpsq   tnatwar      trade  warhist    xconst  \n",
       "0  0.158275  0.052989  0.443259  72.881375        0  3.995912  \n",
       "1  0.158321  0.052663  1.000000  72.900089        0  1.000000  \n",
       "2  0.158425  0.052891  2.000000  72.962880        0  1.000000  \n",
       "3  0.159006  0.052902  2.000000  73.102449        0  1.000000  \n",
       "4  0.158074  0.052706  2.000000  72.850389        0  1.000000  \n",
       "\n",
       "[5 rows x 91 columns]"
      ]
     },
     "execution_count": 103,
     "metadata": {},
     "output_type": "execute_result"
    }
   ],
   "source": [
    "# Loading data contained in a csv file.\n",
    "\n",
    "data = pd.read_csv('SambnisImp.csv')\n",
    "\n",
    "# Filtering of the initial table to keep only the 91 useful variables.\n",
    "data_filtred = data[[\"warstds\", \"ager\", \"agexp\", \"anoc\", \"army85\", \"autch98\", \"auto4\",\n",
    "    \"autonomy\", \"avgnabo\", \"centpol3\", \"coldwar\", \"decade1\", \"decade2\",\n",
    "    \"decade3\", \"decade4\", \"dem\", \"dem4\", \"demch98\", \"dlang\", \"drel\", \"durable\",\n",
    "    \"ef\", \"ef2\", \"ehet\", \"elfo\", \"elfo2\", \"etdo4590\", \"expgdp\", \"exrec\",\n",
    "    \"fedpol3\", \"fuelexp\", \"gdpgrowth\", \"geo1\", \"geo2\", \"geo34\", \"geo57\",\n",
    "    \"geo69\", \"geo8\", \"illiteracy\", \"incumb\", \"infant\", \"inst\", \"inst3\", \"life\",\n",
    "    \"lmtnest\", \"ln_gdpen\", \"lpopns\", \"major\", \"manuexp\", \"milper\", \"mirps0\",\n",
    "    \"mirps1\", \"mirps2\", \"mirps3\", \"nat_war\", \"ncontig\", \"nmgdp\", \"nmdp4_alt\",\n",
    "    \"numlang\", \"nwstate\", \"oil\", \"p4mchg\", \"parcomp\", \"parreg\", \"part\",\n",
    "    \"partfree\", \"plural\", \"plurrel\", \"pol4\", \"pol4m\", \"pol4sq\", \"polch98\",\n",
    "    \"polcomp\", \"popdense\", \"presi\", \"pri\", \"proxregc\", \"ptime\", \"reg\",\n",
    "    \"regd4_alt\", \"relfrac\", \"seceduc\", \"second\", \"semipol3\", \"sip2\", \"sxpnew\",\n",
    "    \"sxpsq\", \"tnatwar\", \"trade\", \"warhist\", \"xconst\"]]\n",
    "\n",
    "# Display of the first lines of the filtered table\n",
    "data_filtred.head()"
   ]
  },
  {
   "cell_type": "code",
   "execution_count": 104,
   "metadata": {},
   "outputs": [
    {
     "data": {
      "text/html": [
       "<div>\n",
       "<style scoped>\n",
       "    .dataframe tbody tr th:only-of-type {\n",
       "        vertical-align: middle;\n",
       "    }\n",
       "\n",
       "    .dataframe tbody tr th {\n",
       "        vertical-align: top;\n",
       "    }\n",
       "\n",
       "    .dataframe thead th {\n",
       "        text-align: right;\n",
       "    }\n",
       "</style>\n",
       "<table border=\"1\" class=\"dataframe\">\n",
       "  <thead>\n",
       "    <tr style=\"text-align: right;\">\n",
       "      <th></th>\n",
       "      <th>ager</th>\n",
       "      <th>agexp</th>\n",
       "      <th>anoc</th>\n",
       "      <th>army85</th>\n",
       "      <th>autch98</th>\n",
       "      <th>auto4</th>\n",
       "      <th>autonomy</th>\n",
       "      <th>avgnabo</th>\n",
       "      <th>centpol3</th>\n",
       "      <th>coldwar</th>\n",
       "      <th>...</th>\n",
       "      <th>seceduc</th>\n",
       "      <th>second</th>\n",
       "      <th>semipol3</th>\n",
       "      <th>sip2</th>\n",
       "      <th>sxpnew</th>\n",
       "      <th>sxpsq</th>\n",
       "      <th>tnatwar</th>\n",
       "      <th>trade</th>\n",
       "      <th>warhist</th>\n",
       "      <th>xconst</th>\n",
       "    </tr>\n",
       "  </thead>\n",
       "  <tbody>\n",
       "    <tr>\n",
       "      <th>0</th>\n",
       "      <td>34.461765</td>\n",
       "      <td>8.510845</td>\n",
       "      <td>0</td>\n",
       "      <td>129472.9042</td>\n",
       "      <td>0</td>\n",
       "      <td>3.925812</td>\n",
       "      <td>0.005151</td>\n",
       "      <td>0.432955</td>\n",
       "      <td>1</td>\n",
       "      <td>1</td>\n",
       "      <td>...</td>\n",
       "      <td>43.770298</td>\n",
       "      <td>0.253</td>\n",
       "      <td>0.058441</td>\n",
       "      <td>0.46176</td>\n",
       "      <td>0.158275</td>\n",
       "      <td>0.052989</td>\n",
       "      <td>0.443259</td>\n",
       "      <td>72.881375</td>\n",
       "      <td>0</td>\n",
       "      <td>3.995912</td>\n",
       "    </tr>\n",
       "    <tr>\n",
       "      <th>1</th>\n",
       "      <td>34.346348</td>\n",
       "      <td>8.478997</td>\n",
       "      <td>0</td>\n",
       "      <td>129413.0225</td>\n",
       "      <td>0</td>\n",
       "      <td>10.000000</td>\n",
       "      <td>0.000000</td>\n",
       "      <td>0.045052</td>\n",
       "      <td>1</td>\n",
       "      <td>1</td>\n",
       "      <td>...</td>\n",
       "      <td>43.588363</td>\n",
       "      <td>0.253</td>\n",
       "      <td>0.000000</td>\n",
       "      <td>0.00000</td>\n",
       "      <td>0.158321</td>\n",
       "      <td>0.052663</td>\n",
       "      <td>1.000000</td>\n",
       "      <td>72.900089</td>\n",
       "      <td>0</td>\n",
       "      <td>1.000000</td>\n",
       "    </tr>\n",
       "    <tr>\n",
       "      <th>2</th>\n",
       "      <td>77.000000</td>\n",
       "      <td>8.481015</td>\n",
       "      <td>0</td>\n",
       "      <td>130431.0145</td>\n",
       "      <td>0</td>\n",
       "      <td>10.000000</td>\n",
       "      <td>0.000000</td>\n",
       "      <td>0.030034</td>\n",
       "      <td>1</td>\n",
       "      <td>1</td>\n",
       "      <td>...</td>\n",
       "      <td>43.538181</td>\n",
       "      <td>0.253</td>\n",
       "      <td>0.000000</td>\n",
       "      <td>0.00000</td>\n",
       "      <td>0.158425</td>\n",
       "      <td>0.052891</td>\n",
       "      <td>2.000000</td>\n",
       "      <td>72.962880</td>\n",
       "      <td>0</td>\n",
       "      <td>1.000000</td>\n",
       "    </tr>\n",
       "    <tr>\n",
       "      <th>3</th>\n",
       "      <td>78.000000</td>\n",
       "      <td>8.451628</td>\n",
       "      <td>0</td>\n",
       "      <td>126781.6866</td>\n",
       "      <td>0</td>\n",
       "      <td>10.000000</td>\n",
       "      <td>0.000000</td>\n",
       "      <td>0.022526</td>\n",
       "      <td>1</td>\n",
       "      <td>1</td>\n",
       "      <td>...</td>\n",
       "      <td>43.490005</td>\n",
       "      <td>0.253</td>\n",
       "      <td>0.000000</td>\n",
       "      <td>0.00000</td>\n",
       "      <td>0.159006</td>\n",
       "      <td>0.052902</td>\n",
       "      <td>2.000000</td>\n",
       "      <td>73.102449</td>\n",
       "      <td>0</td>\n",
       "      <td>1.000000</td>\n",
       "    </tr>\n",
       "    <tr>\n",
       "      <th>4</th>\n",
       "      <td>79.000000</td>\n",
       "      <td>8.500172</td>\n",
       "      <td>0</td>\n",
       "      <td>130979.2470</td>\n",
       "      <td>0</td>\n",
       "      <td>10.000000</td>\n",
       "      <td>0.000000</td>\n",
       "      <td>0.022526</td>\n",
       "      <td>1</td>\n",
       "      <td>1</td>\n",
       "      <td>...</td>\n",
       "      <td>43.602238</td>\n",
       "      <td>0.253</td>\n",
       "      <td>0.000000</td>\n",
       "      <td>0.00000</td>\n",
       "      <td>0.158074</td>\n",
       "      <td>0.052706</td>\n",
       "      <td>2.000000</td>\n",
       "      <td>72.850389</td>\n",
       "      <td>0</td>\n",
       "      <td>1.000000</td>\n",
       "    </tr>\n",
       "  </tbody>\n",
       "</table>\n",
       "<p>5 rows × 90 columns</p>\n",
       "</div>"
      ],
      "text/plain": [
       "        ager     agexp  anoc       army85  autch98      auto4  autonomy  \\\n",
       "0  34.461765  8.510845     0  129472.9042        0   3.925812  0.005151   \n",
       "1  34.346348  8.478997     0  129413.0225        0  10.000000  0.000000   \n",
       "2  77.000000  8.481015     0  130431.0145        0  10.000000  0.000000   \n",
       "3  78.000000  8.451628     0  126781.6866        0  10.000000  0.000000   \n",
       "4  79.000000  8.500172     0  130979.2470        0  10.000000  0.000000   \n",
       "\n",
       "    avgnabo  centpol3  coldwar  ...    seceduc  second  semipol3     sip2  \\\n",
       "0  0.432955         1        1  ...  43.770298   0.253  0.058441  0.46176   \n",
       "1  0.045052         1        1  ...  43.588363   0.253  0.000000  0.00000   \n",
       "2  0.030034         1        1  ...  43.538181   0.253  0.000000  0.00000   \n",
       "3  0.022526         1        1  ...  43.490005   0.253  0.000000  0.00000   \n",
       "4  0.022526         1        1  ...  43.602238   0.253  0.000000  0.00000   \n",
       "\n",
       "     sxpnew     sxpsq   tnatwar      trade  warhist    xconst  \n",
       "0  0.158275  0.052989  0.443259  72.881375        0  3.995912  \n",
       "1  0.158321  0.052663  1.000000  72.900089        0  1.000000  \n",
       "2  0.158425  0.052891  2.000000  72.962880        0  1.000000  \n",
       "3  0.159006  0.052902  2.000000  73.102449        0  1.000000  \n",
       "4  0.158074  0.052706  2.000000  72.850389        0  1.000000  \n",
       "\n",
       "[5 rows x 90 columns]"
      ]
     },
     "execution_count": 104,
     "metadata": {},
     "output_type": "execute_result"
    }
   ],
   "source": [
    "# Defining the corresponding output values and feature vectors for training the different models. The output vector is \n",
    "# similar for each model while the feature vectors are different.\n",
    "# The output binary variable signalling the onset of civil war. 1 corresponds to a recorded civil war while 0 corresponds to otherwise\n",
    "y = data_filtred['warstds'] \n",
    "\n",
    "# All the variables can be used for training except the target variable which is warstds\n",
    "X = data_filtred.drop(['warstds'], axis=1)\n",
    "\n",
    "X.head()"
   ]
  },
  {
   "cell_type": "markdown",
   "metadata": {},
   "source": [
    "# 1. Least Square Method\n",
    "#### - Step 1 : Try the method with the 88 variables (sklearn) : AUC = 0.77\n",
    "#### - Step 2 : Try to find significant variables (statmodels)\n",
    "#### - Step 3 : Retry the linear regression method with significant variables (sklearn) : AUC = 0.80"
   ]
  },
  {
   "cell_type": "code",
   "execution_count": 106,
   "metadata": {
    "pycharm": {
     "name": "#%%\n"
    }
   },
   "outputs": [
    {
     "name": "stdout",
     "output_type": "stream",
     "text": [
      "warstds      \t:\t {0, 1}\n",
      "anoc      \t:\t {0, 1}\n",
      "centpol3      \t:\t {0, 1}\n",
      "coldwar      \t:\t {0, 1}\n",
      "decade1      \t:\t {0, 1}\n",
      "decade2      \t:\t {0, 1}\n",
      "decade3      \t:\t {0, 1}\n",
      "decade4      \t:\t {0, 1}\n",
      "dem      \t:\t {0, 1}\n",
      "incumb      \t:\t {0, 1}\n",
      "major      \t:\t {0, 1}\n",
      "nat_war      \t:\t {0, 1}\n",
      "oil      \t:\t {0, 1}\n",
      "partfree      \t:\t {0, 1}\n",
      "presi      \t:\t {0, 1}\n",
      "warhist      \t:\t {0, 1}\n"
     ]
    }
   ],
   "source": [
    "# Find categorical data\n",
    "def is_categ(df):\n",
    "    for col in df.columns:\n",
    "        if len(set(df[col].values)) < 4:\n",
    "            print(col, '     \\t:\\t', set(df[col].values))\n",
    "            \n",
    "is_categ(data_filtred)"
   ]
  },
  {
   "cell_type": "code",
   "execution_count": 107,
   "metadata": {
    "pycharm": {
     "name": "#%%\n"
    }
   },
   "outputs": [
    {
     "data": {
      "image/png": "[encoded data removed]",
      "text/plain": [
       "<Figure size 432x288 with 1 Axes>"
      ]
     },
     "metadata": {
      "needs_background": "light"
     },
     "output_type": "display_data"
    }
   ],
   "source": [
    "model = linear_model.LinearRegression()\n",
    "graph_title = \"Least square\"\n",
    "\n",
    "X = data_filtred\n",
    "X = X.drop('warstds',axis=1)\n",
    "y = data['warstds']\n",
    "\n",
    "# Predict the probabilities with a cross validation\n",
    "y_pred = cross_val_predict(model, X, y, cv=10)\n",
    "\n",
    "# Compute the False Positive Rate and True Positive Rate\n",
    "fpr, tpr, _ = roc_curve(y, y_pred[:])\n",
    "\n",
    "# Compute the area under the fpt-tpf curve\n",
    "auc_score = auc(fpr, tpr)\n",
    "\n",
    "# Stores the ROC curve plot for each model.\n",
    "plt.plot(fpr, tpr, label=\"88 variables\" + \" - {:.2f}\".format(auc_score))\n",
    "plt.xlabel(\"False Positive Rate\")\n",
    "plt.ylabel(\"True Positive Rate\")\n",
    "\n",
    "# Drawing ROC curves with the legend\n",
    "plt.legend(loc='lower right')\n",
    "# Adding the title according to the selected regression type\n",
    "plt.title(graph_title)\n",
    "plt.grid()\n",
    "plt.show()"
   ]
  },
  {
   "cell_type": "markdown",
   "metadata": {},
   "source": [
    "### Step 2 : Find relevant variables"
   ]
  },
  {
   "cell_type": "code",
   "execution_count": 108,
   "metadata": {
    "pycharm": {
     "name": "#%%\n"
    }
   },
   "outputs": [
    {
     "name": "stdout",
     "output_type": "stream",
     "text": [
      "                            OLS Regression Results                            \n",
      "==============================================================================\n",
      "Dep. Variable:                warstds   R-squared:                       0.052\n",
      "Model:                            OLS   Adj. R-squared:                  0.040\n",
      "Method:                 Least Squares   F-statistic:                     4.404\n",
      "Date:                Mon, 14 Dec 2020   Prob (F-statistic):           1.81e-37\n",
      "Time:                        17:22:23   Log-Likelihood:                 4824.1\n",
      "No. Observations:                7140   AIC:                            -9472.\n",
      "Df Residuals:                    7052   BIC:                            -8867.\n",
      "Df Model:                          87                                         \n",
      "Covariance Type:            nonrobust                                         \n",
      "====================================================================================\n",
      "                       coef    std err          t      P>|t|      [0.025      0.975]\n",
      "------------------------------------------------------------------------------------\n",
      "Intercept            0.1171      0.074      1.575      0.115      -0.029       0.263\n",
      "C(anoc)[T.1]        -0.0002      0.007     -0.033      0.974      -0.013       0.013\n",
      "C(centpol3)[T.1]    -0.0352      0.025     -1.425      0.154      -0.084       0.013\n",
      "C(coldwar)[T.1]      0.0133      0.008      1.605      0.109      -0.003       0.029\n",
      "C(decade1)[T.1]      0.0002      0.006      0.031      0.975      -0.011       0.012\n",
      "C(decade2)[T.1]      0.0016      0.006      0.272      0.786      -0.010       0.013\n",
      "C(decade3)[T.1]      0.0004      0.007      0.063      0.950      -0.012       0.013\n",
      "C(decade4)[T.1]      0.0185      0.008      2.464      0.014       0.004       0.033\n",
      "C(dem)[T.1]          0.0041      0.009      0.483      0.629      -0.013       0.021\n",
      "C(incumb)[T.1]       0.0147      0.013      1.160      0.246      -0.010       0.039\n",
      "C(major)[T.1]       -0.0059      0.007     -0.796      0.426      -0.020       0.009\n",
      "C(nat_war)[T.1]      0.0216      0.006      3.784      0.000       0.010       0.033\n",
      "C(oil)[T.1]         -0.0022      0.007     -0.317      0.751      -0.016       0.011\n",
      "C(partfree)[T.1]     0.0022      0.005      0.429      0.668      -0.008       0.012\n",
      "C(presi)[T.1]       -0.0202      0.007     -2.780      0.005      -0.034      -0.006\n",
      "C(warhist)[T.1]     -0.0058      0.005     -1.183      0.237      -0.015       0.004\n",
      "ager             -6.804e-06   6.64e-05     -0.103      0.918      -0.000       0.000\n",
      "agexp                0.0004      0.000      2.212      0.027    4.76e-05       0.001\n",
      "army85            1.033e-08   6.72e-09      1.537      0.124   -2.85e-09    2.35e-08\n",
      "autch98             -0.0023      0.012     -0.199      0.842      -0.025       0.020\n",
      "auto4                0.0131      0.005      2.483      0.013       0.003       0.023\n",
      "autonomy             0.0077      0.020      0.386      0.700      -0.031       0.047\n",
      "avgnabo             -0.0052      0.007     -0.803      0.422      -0.018       0.008\n",
      "dem4                 0.0013      0.005      0.267      0.789      -0.009       0.011\n",
      "demch98             -0.0096      0.014     -0.698      0.485      -0.037       0.017\n",
      "dlang                0.0004      0.000      1.866      0.062   -1.99e-05       0.001\n",
      "drel               9.59e-05      0.000      0.368      0.713      -0.000       0.001\n",
      "durable           9.531e-05      0.000      0.869      0.385      -0.000       0.000\n",
      "ef                   0.0320      0.041      0.787      0.431      -0.048       0.112\n",
      "ef2                 -0.1122      0.067     -1.671      0.095      -0.244       0.019\n",
      "ehet                -0.0002      0.000     -1.114      0.265      -0.001       0.000\n",
      "elfo                -0.0005      0.000     -1.029      0.304      -0.001       0.000\n",
      "elfo2             8.778e-06   5.79e-06      1.516      0.130   -2.57e-06    2.01e-05\n",
      "etdo4590             0.0013      0.007      0.196      0.845      -0.012       0.015\n",
      "expgdp              -0.0003      0.000     -1.819      0.069      -0.001    2.31e-05\n",
      "exrec               -0.0018      0.005     -0.371      0.711      -0.011       0.008\n",
      "fedpol3             -0.0341      0.025     -1.370      0.171      -0.083       0.015\n",
      "fuelexp              0.0002      0.000      1.479      0.139   -5.94e-05       0.000\n",
      "gdpgrowth           -0.1146      0.025     -4.530      0.000      -0.164      -0.065\n",
      "geo1                 0.0261      0.015      1.697      0.090      -0.004       0.056\n",
      "geo2                 0.0239      0.015      1.628      0.104      -0.005       0.053\n",
      "geo34                0.0223      0.014      1.587      0.112      -0.005       0.050\n",
      "geo57                0.0149      0.013      1.151      0.250      -0.010       0.040\n",
      "geo69                0.0259      0.013      1.939      0.053      -0.000       0.052\n",
      "geo8                 0.0040      0.013      0.297      0.767      -0.022       0.030\n",
      "illiteracy           0.0001      0.000      0.928      0.353      -0.000       0.000\n",
      "infant            3.618e-05   7.81e-05      0.463      0.643      -0.000       0.000\n",
      "inst                -0.0018      0.003     -0.630      0.529      -0.007       0.004\n",
      "inst3                0.0369      0.006      6.637      0.000       0.026       0.048\n",
      "life                -0.0005      0.000     -1.066      0.286      -0.001       0.000\n",
      "lmtnest              0.0027      0.001      1.924      0.054   -5.01e-05       0.005\n",
      "ln_gdpen            -0.0021      0.003     -0.679      0.497      -0.008       0.004\n",
      "lpopns              -0.0017      0.002     -1.060      0.289      -0.005       0.001\n",
      "manuexp             -0.0002      0.000     -2.098      0.036      -0.000   -1.57e-05\n",
      "milper           -3.645e-06   6.31e-06     -0.577      0.564    -1.6e-05    8.73e-06\n",
      "mirps0               0.0411      0.019      2.122      0.034       0.003       0.079\n",
      "mirps1               0.0168      0.019      0.887      0.375      -0.020       0.054\n",
      "mirps2               0.0217      0.020      1.072      0.284      -0.018       0.062\n",
      "mirps3               0.0375      0.020      1.863      0.063      -0.002       0.077\n",
      "ncontig              0.0105      0.006      1.824      0.068      -0.001       0.022\n",
      "nmgdp             -8.38e-07   1.05e-06     -0.797      0.426    -2.9e-06    1.22e-06\n",
      "nmdp4_alt            0.0005      0.000      1.330      0.183      -0.000       0.001\n",
      "numlang             -0.0004      0.000     -0.899      0.369      -0.001       0.000\n",
      "nwstate              0.0714      0.010      7.048      0.000       0.052       0.091\n",
      "p4mchg              -0.0008      0.001     -0.753      0.451      -0.003       0.001\n",
      "parcomp              0.0043      0.006      0.659      0.510      -0.008       0.017\n",
      "parreg              -0.0080      0.003     -2.397      0.017      -0.015      -0.001\n",
      "part                 0.0039      0.003      1.547      0.122      -0.001       0.009\n",
      "plural              -0.0871      0.057     -1.528      0.127      -0.199       0.025\n",
      "plurrel              0.0004      0.000      1.003      0.316      -0.000       0.001\n",
      "pol4                -0.0118      0.009     -1.344      0.179      -0.029       0.005\n",
      "pol4m                0.0198      0.012      1.585      0.113      -0.005       0.044\n",
      "pol4sq              -0.0003      0.000     -1.848      0.065      -0.001    2.02e-05\n",
      "polch98              0.0054      0.012      0.439      0.661      -0.019       0.029\n",
      "polcomp             -0.0008      0.005     -0.167      0.867      -0.011       0.009\n",
      "popdense          2.345e-05   7.19e-06      3.261      0.001    9.35e-06    3.75e-05\n",
      "pri               9.632e-06   9.69e-05      0.099      0.921      -0.000       0.000\n",
      "proxregc            -0.0207      0.006     -3.335      0.001      -0.033      -0.009\n",
      "ptime             9.579e-06   1.56e-05      0.616      0.538   -2.09e-05    4.01e-05\n",
      "reg                 -0.0103      0.008     -1.280      0.201      -0.026       0.005\n",
      "regd4_alt           -0.0010      0.001     -1.466      0.143      -0.002       0.000\n",
      "relfrac              0.0604      0.041      1.456      0.145      -0.021       0.142\n",
      "seceduc              0.0001      0.000      1.217      0.224   -8.29e-05       0.000\n",
      "second              -0.0859      0.038     -2.261      0.024      -0.160      -0.011\n",
      "semipol3            -0.0452      0.026     -1.731      0.083      -0.096       0.006\n",
      "sip2                -0.0474      0.028     -1.677      0.094      -0.103       0.008\n",
      "sxpnew              -0.1131      0.035     -3.214      0.001      -0.182      -0.044\n",
      "sxpsq                0.0527      0.030      1.741      0.082      -0.007       0.112\n",
      "tnatwar             -0.0082      0.003     -2.450      0.014      -0.015      -0.002\n",
      "trade            -7.736e-05   5.54e-05     -1.397      0.162      -0.000    3.12e-05\n",
      "xconst              -0.0050      0.005     -0.920      0.358      -0.016       0.006\n",
      "==============================================================================\n",
      "Omnibus:                     8896.398   Durbin-Watson:                   2.068\n",
      "Prob(Omnibus):                  0.000   Jarque-Bera (JB):           837166.362\n",
      "Skew:                           7.077   Prob(JB):                         0.00\n",
      "Kurtosis:                      54.124   Cond. No.                     9.74e+15\n",
      "==============================================================================\n",
      "\n",
      "Warnings:\n",
      "[1] Standard Errors assume that the covariance matrix of the errors is correctly specified.\n",
      "[2] The smallest eigenvalue is 1.42e-17. This might indicate that there are\n",
      "strong multicollinearity problems or that the design matrix is singular.\n"
     ]
    }
   ],
   "source": [
    "# Declares the model\n",
    "import statsmodels.formula.api as smf\n",
    "\n",
    "mod = smf.ols(formula='warstds ~ + ager + agexp + C(anoc) + army85 + autch98 + auto4 + \\\n",
    "                              autonomy + avgnabo + C(centpol3) + C(coldwar) + C(decade1) + C(decade2) + \\\n",
    "                              C(decade3) + C(decade4) + C(dem) + dem4 + demch98 + dlang + drel + durable + \\\n",
    "                              ef + ef2 + ehet + elfo + elfo2 + etdo4590 + expgdp + exrec + fedpol3 + \\\n",
    "                              fuelexp + gdpgrowth + geo1 + geo2 + geo34 + geo57 + geo69 + geo8 + \\\n",
    "                              illiteracy + C(incumb) + infant + inst + inst3 + life + lmtnest + \\\n",
    "                              ln_gdpen + lpopns + C(major) + manuexp + milper + mirps0 + mirps1 + \\\n",
    "                              mirps2 + mirps3 + C(nat_war) + ncontig + nmgdp + nmdp4_alt + numlang + \\\n",
    "                              nwstate + C(oil) + p4mchg + parcomp + parreg + part + C(partfree) + plural + \\\n",
    "                              plurrel + pol4 + pol4m + pol4sq + polch98 + polcomp + popdense + pri + \\\n",
    "                              proxregc + ptime + reg + regd4_alt + relfrac + seceduc + second + C(presi) + \\\n",
    "                              semipol3 + sip2 + sxpnew + sxpsq + tnatwar + trade + C(warhist) + xconst', data=data_filtred)\n",
    "\n",
    "# Fits the model (find the optimal coefficients, adding a random seed ensures consistency)\n",
    "import numpy as np\n",
    "np.random.seed(2)\n",
    "res = mod.fit()\n",
    "\n",
    "# Print thes summary output provided by the library.\n",
    "print(res.summary())\n"
   ]
  },
  {
   "cell_type": "code",
   "execution_count": 109,
   "metadata": {
    "pycharm": {
     "name": "#%%\n"
    }
   },
   "outputs": [
    {
     "data": {
      "text/html": [
       "<div>\n",
       "<style scoped>\n",
       "    .dataframe tbody tr th:only-of-type {\n",
       "        vertical-align: middle;\n",
       "    }\n",
       "\n",
       "    .dataframe tbody tr th {\n",
       "        vertical-align: top;\n",
       "    }\n",
       "\n",
       "    .dataframe thead th {\n",
       "        text-align: right;\n",
       "    }\n",
       "</style>\n",
       "<table border=\"1\" class=\"dataframe\">\n",
       "  <thead>\n",
       "    <tr style=\"text-align: right;\">\n",
       "      <th></th>\n",
       "      <th>0</th>\n",
       "      <th>1</th>\n",
       "    </tr>\n",
       "  </thead>\n",
       "  <tbody>\n",
       "    <tr>\n",
       "      <th>Intercept</th>\n",
       "      <td>-0.028600</td>\n",
       "      <td>0.262756</td>\n",
       "    </tr>\n",
       "    <tr>\n",
       "      <th>C(anoc)[T.1]</th>\n",
       "      <td>-0.013473</td>\n",
       "      <td>0.013027</td>\n",
       "    </tr>\n",
       "    <tr>\n",
       "      <th>C(centpol3)[T.1]</th>\n",
       "      <td>-0.083532</td>\n",
       "      <td>0.013205</td>\n",
       "    </tr>\n",
       "    <tr>\n",
       "      <th>C(coldwar)[T.1]</th>\n",
       "      <td>-0.002935</td>\n",
       "      <td>0.029439</td>\n",
       "    </tr>\n",
       "    <tr>\n",
       "      <th>C(decade1)[T.1]</th>\n",
       "      <td>-0.011329</td>\n",
       "      <td>0.011696</td>\n",
       "    </tr>\n",
       "    <tr>\n",
       "      <th>...</th>\n",
       "      <td>...</td>\n",
       "      <td>...</td>\n",
       "    </tr>\n",
       "    <tr>\n",
       "      <th>sxpnew</th>\n",
       "      <td>-0.182040</td>\n",
       "      <td>-0.044110</td>\n",
       "    </tr>\n",
       "    <tr>\n",
       "      <th>sxpsq</th>\n",
       "      <td>-0.006622</td>\n",
       "      <td>0.111926</td>\n",
       "    </tr>\n",
       "    <tr>\n",
       "      <th>tnatwar</th>\n",
       "      <td>-0.014683</td>\n",
       "      <td>-0.001630</td>\n",
       "    </tr>\n",
       "    <tr>\n",
       "      <th>trade</th>\n",
       "      <td>-0.000186</td>\n",
       "      <td>0.000031</td>\n",
       "    </tr>\n",
       "    <tr>\n",
       "      <th>xconst</th>\n",
       "      <td>-0.015683</td>\n",
       "      <td>0.005666</td>\n",
       "    </tr>\n",
       "  </tbody>\n",
       "</table>\n",
       "<p>91 rows × 2 columns</p>\n",
       "</div>"
      ],
      "text/plain": [
       "                         0         1\n",
       "Intercept        -0.028600  0.262756\n",
       "C(anoc)[T.1]     -0.013473  0.013027\n",
       "C(centpol3)[T.1] -0.083532  0.013205\n",
       "C(coldwar)[T.1]  -0.002935  0.029439\n",
       "C(decade1)[T.1]  -0.011329  0.011696\n",
       "...                    ...       ...\n",
       "sxpnew           -0.182040 -0.044110\n",
       "sxpsq            -0.006622  0.111926\n",
       "tnatwar          -0.014683 -0.001630\n",
       "trade            -0.000186  0.000031\n",
       "xconst           -0.015683  0.005666\n",
       "\n",
       "[91 rows x 2 columns]"
      ]
     },
     "execution_count": 109,
     "metadata": {},
     "output_type": "execute_result"
    }
   ],
   "source": [
    "# feature names\n",
    "variables = res.params.index\n",
    "\n",
    "# quantifying uncertainty!\n",
    "\n",
    "# coefficients\n",
    "coefficients = res.params.values\n",
    "\n",
    "# p-values\n",
    "p_values = res.pvalues\n",
    "\n",
    "# standard errors\n",
    "standard_errors = res.bse.values\n",
    "\n",
    "#sort them all by coefficients\n",
    "l1, l2, l3, l4 = zip(*sorted(zip(coefficients[1:], variables[1:], standard_errors[1:], p_values[1:])))\n",
    "\n",
    "#confidence intervals\n",
    "res.conf_int()"
   ]
  },
  {
   "cell_type": "code",
   "execution_count": 110,
   "metadata": {
    "pycharm": {
     "name": "#%%\n"
    }
   },
   "outputs": [
    {
     "data": {
      "text/plain": [
       "['gdpgrowth',\n",
       " 'sxpnew',\n",
       " 'second',\n",
       " 'proxregc',\n",
       " 'C(presi)[T.1]',\n",
       " 'tnatwar',\n",
       " 'parreg',\n",
       " 'manuexp',\n",
       " 'popdense',\n",
       " 'agexp',\n",
       " 'auto4',\n",
       " 'C(decade4)[T.1]',\n",
       " 'C(nat_war)[T.1]',\n",
       " 'inst3',\n",
       " 'mirps0',\n",
       " 'nwstate']"
      ]
     },
     "execution_count": 110,
     "metadata": {},
     "output_type": "execute_result"
    }
   ],
   "source": [
    "# Filter with P value\n",
    "\n",
    "new_data = []\n",
    "\n",
    "for i in range(len(l4)):\n",
    "    if l4[i] < 0.05:\n",
    "        new_data.append(l2[i])\n",
    "new_data"
   ]
  },
  {
   "cell_type": "markdown",
   "metadata": {},
   "source": [
    "### Step 3"
   ]
  },
  {
   "cell_type": "code",
   "execution_count": 112,
   "metadata": {
    "pycharm": {
     "name": "#%%\n"
    }
   },
   "outputs": [
    {
     "data": {
      "image/png": "[encoded data removed]",
      "text/plain": [
       "<Figure size 432x288 with 1 Axes>"
      ]
     },
     "metadata": {
      "needs_background": "light"
     },
     "output_type": "display_data"
    }
   ],
   "source": [
    "new_data = ['gdpgrowth', 'sxpnew', 'second', 'proxregc', 'presi', \n",
    "             'tnatwar', 'parreg', 'manuexp', 'popdense', 'agexp', 'auto4', \n",
    "             'decade4', 'nat_war', 'inst3', 'mirps0', 'nwstate']\n",
    "\n",
    "model = linear_model.LinearRegression()\n",
    "graph_title = \"Least square\"\n",
    "\n",
    "X = data[new_data]\n",
    "y = data['warstds']\n",
    "\n",
    "# Predict the probabilities with a cross validation\n",
    "y_pred = cross_val_predict(model, X, y, cv=10)\n",
    "\n",
    "# Compute the False Positive Rate and True Positive Rate\n",
    "fpr, tpr, _ = roc_curve(y, y_pred[:])\n",
    "\n",
    "# Compute the area under the fpt-tpf curve\n",
    "auc_score = auc(fpr, tpr)\n",
    "\n",
    "# Stores the ROC curve plot for each model.\n",
    "plt.plot(fpr, tpr, label=\"relevant variables\" + \" - {:.2f}\".format(auc_score))\n",
    "plt.xlabel(\"False Positive Rate\")\n",
    "plt.ylabel(\"True Positive Rate\")\n",
    "\n",
    "# Drawing ROC curves with the legend\n",
    "plt.legend(loc='lower right')\n",
    "# Adding the title according to the selected regression type\n",
    "plt.title(graph_title)\n",
    "plt.grid()\n",
    "plt.show()\n"
   ]
  },
  {
   "cell_type": "code",
   "execution_count": 113,
   "metadata": {
    "pycharm": {
     "name": "#%%\n"
    }
   },
   "outputs": [
    {
     "data": {
      "text/plain": [
       "(74,)"
      ]
     },
     "execution_count": 113,
     "metadata": {},
     "output_type": "execute_result"
    }
   ],
   "source": [
    "# Evaluating all the columns which are continuous so that they can be normalised. A feature is considered continuous if it has \n",
    "#more than 5 unique entries\n",
    "\n",
    "continuous =[]\n",
    "for j in fields:\n",
    "    if (data_filtred[j].nunique())>5:\n",
    "        continuous.append(str(j))\n",
    "    else:\n",
    "        continue\n",
    "np.shape(continuous)"
   ]
  },
  {
   "cell_type": "markdown",
   "metadata": {},
   "source": [
    "There are a total of 74 continuous features out of 91 total fields and rest 17 are categorical variables"
   ]
  },
  {
   "cell_type": "code",
   "execution_count": 114,
   "metadata": {
    "pycharm": {
     "name": "#%%\n"
    }
   },
   "outputs": [],
   "source": [
    "# Standardising all the continuous features for better scaling of variables\n",
    "X_std = X.copy()\n",
    "X_std = strandardize(X_std)"
   ]
  },
  {
   "cell_type": "markdown",
   "metadata": {},
   "source": [
    "# 2. SVM\n",
    "Fitting a SVM to the dataset for predicting the onset of civil war. Instead of binary prediction, we will fit a SVM which outputs the \n",
    "probability of belonging to a class so that we can plot a ROC curve by varying the threshold probability and obtain the respective AUC. "
   ]
  },
  {
   "cell_type": "code",
   "execution_count": 115,
   "metadata": {
    "pycharm": {
     "name": "#%%\n"
    }
   },
   "outputs": [],
   "source": [
    "# fitting a svm model with default parameters\n",
    "model_Svm = svm.SVC(probability = True, gamma = 'scale')\n",
    "# Training the model by cross validation. Employing cross validation is preferable to just training on the whole\n",
    "# dataset and predicting on the same dataset as the latter approach entails overfitting. \n",
    "\n",
    "# Predict the probabilities with a cross validation\n",
    "y_pred3 = cross_val_predict(model_Svm, X_std, y, cv=5,method='predict_proba')\n",
    "# Compute the False Positive Rate and True Positive Rate\n",
    "fpr3, tpr3, _ = roc_curve(y, y_pred3[:,1])\n",
    "# Compute the area under the fpr-tpr curve\n",
    "auc_score3 = auc(fpr3, tpr3)"
   ]
  },
  {
   "cell_type": "code",
   "execution_count": 123,
   "metadata": {
    "pycharm": {
     "name": "#%%\n"
    }
   },
   "outputs": [
    {
     "data": {
      "image/png": "[encoded data removed]",
      "text/plain": [
       "<Figure size 432x288 with 1 Axes>"
      ]
     },
     "metadata": {
      "needs_background": "light"
     },
     "output_type": "display_data"
    }
   ],
   "source": [
    "plt.plot(fpr3, tpr3, 'b', label =\"SVM: \" + str(round(auc_score3,2)))\n",
    "plt.xlabel(\"False Positive Rate\")\n",
    "plt.ylabel(\"True Positive Rate\")\n",
    "plt.title(\"ROC Curve\");\n",
    "plt.legend(loc=\"lower right\",title=\"AUC value\")\n",
    "plt.grid()\n",
    "plt.show()"
   ]
  },
  {
   "cell_type": "markdown",
   "metadata": {},
   "source": []
  },
  {
   "cell_type": "markdown",
   "metadata": {},
   "source": [
    "# 3. Neural Networks\n",
    "We will try to use a neural network to classify the dataset according to the variables. As neural networks have been shown to have a higher accuracy than the traditional methods, it is expected that this should lead to a better AUC"
   ]
  },
  {
   "cell_type": "code",
   "execution_count": 117,
   "metadata": {
    "pycharm": {
     "name": "#%%\n"
    }
   },
   "outputs": [],
   "source": [
    "mlp = MLPClassifier()\n",
    "# Training the model by cross validation. Employing cross validation is preferable to just training on the whole\n",
    "# dataset and predicting on the same dataset as the latter approach entails overfitting. \n",
    "\n",
    "# Predict the probabilities with a cross validation\n",
    "y_pred2 = cross_val_predict(mlp, X, y, cv=5, method=\"predict_proba\")\n",
    "# Compute the False Positive Rate and True Positive Rate\n",
    "fpr2, tpr2, _ = roc_curve(y, y_pred2[:, 1])\n",
    "# Compute the area under the fpr-tpr curve\n",
    "auc_score2 = auc(fpr2, tpr2)"
   ]
  },
  {
   "cell_type": "code",
   "execution_count": 122,
   "metadata": {
    "pycharm": {
     "name": "#%%\n"
    }
   },
   "outputs": [
    {
     "data": {
      "image/png": "[encoded data removed]",
      "text/plain": [
       "<Figure size 432x288 with 1 Axes>"
      ]
     },
     "metadata": {
      "needs_background": "light"
     },
     "output_type": "display_data"
    }
   ],
   "source": [
    "plt.plot(fpr2, tpr2, 'g', label =\"Neural network: \" + str(round(auc_score2,2)))\n",
    "plt.xlabel(\"False Positive Rate\")\n",
    "plt.ylabel(\"True Positive Rate\")\n",
    "plt.title(\"ROC Curve\");\n",
    "plt.legend(loc=\"lower right\",title=\"AUC values\")\n",
    "plt.grid()\n",
    "plt.show()"
   ]
  },
  {
   "cell_type": "markdown",
   "metadata": {},
   "source": [
    "# 4. Bayes classifier\n",
    "We also try to implement the simplest method of classification, bayes classifier, to benchmark the accuracy of other methods"
   ]
  },
  {
   "cell_type": "code",
   "execution_count": 119,
   "metadata": {
    "pycharm": {
     "name": "#%%\n"
    }
   },
   "outputs": [],
   "source": [
    "model_naive = GaussianNB()\n",
    "\n",
    "# Training the model by Fearon and laitin by cross validation. Employing cross validation is preferable to just training on the whole\n",
    "# dataset and predicting on the same dataset as the latter approach entails overfitting. \n",
    "\n",
    "# Predict the probabilities with a cross validation\n",
    "y_pred = cross_val_predict(model_naive, X, y, cv=5, method=\"predict_proba\")\n",
    "# Compute the False Positive Rate and True Positive Rate\n",
    "fpr1, tpr1, _ = roc_curve(y, y_pred[:, 1])\n",
    "# Compute the area under the fpr-tpr curve\n",
    "auc_score = auc(fpr1, tpr1)"
   ]
  },
  {
   "cell_type": "code",
   "execution_count": 121,
   "metadata": {
    "pycharm": {
     "name": "#%%\n"
    }
   },
   "outputs": [
    {
     "data": {
      "image/png": "[encoded data removed]",
      "text/plain": [
       "<Figure size 432x288 with 1 Axes>"
      ]
     },
     "metadata": {
      "needs_background": "light"
     },
     "output_type": "display_data"
    }
   ],
   "source": [
    "plt.plot(fpr1, tpr1, 'r', label =\"Naive Bayes rule: \" + str(round(auc_score,2)))\n",
    "plt.xlabel(\"False Positive Rate\")\n",
    "plt.ylabel(\"True Positive Rate\")\n",
    "plt.title(\"ROC Curve\");\n",
    "plt.legend(loc=\"lower right\",title=\"AUC values\")\n",
    "plt.grid()\n",
    "plt.show()"
   ]
  }
 ],
 "metadata": {
  "kernelspec": {
   "display_name": "Python 3",
   "language": "python",
   "name": "python3"
  },
  "language_info": {
   "codemirror_mode": {
    "name": "ipython",
    "version": 3
   },
   "file_extension": ".py",
   "mimetype": "text/x-python",
   "name": "python",
   "nbconvert_exporter": "python",
   "pygments_lexer": "ipython3",
   "version": "3.8.3"
  }
 },
 "nbformat": 4,
 "nbformat_minor": 1
}
