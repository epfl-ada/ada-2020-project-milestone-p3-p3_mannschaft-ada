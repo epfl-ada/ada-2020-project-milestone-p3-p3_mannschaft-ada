{
 "cells": [
  {
   "cell_type": "markdown",
   "metadata": {
    "collapsed": true,
    "pycharm": {
     "name": "#%% md\n"
    }
   },
   "source": [
    "## Least Square Method"
   ]
  },
  {
   "cell_type": "code",
   "execution_count": 1,
   "outputs": [],
   "source": [
    "import matplotlib.pyplot as plt\n",
    "import pandas as pd\n",
    "from sklearn import linear_model\n",
    "from sklearn.metrics import roc_curve, auc\n",
    "from sklearn.model_selection import cross_val_predict"
   ],
   "metadata": {
    "collapsed": false,
    "pycharm": {
     "name": "#%%\n"
    }
   }
  },
  {
   "cell_type": "code",
   "execution_count": 2,
   "outputs": [
    {
     "data": {
      "text/plain": "   warstds       ager     agexp  anoc       army85  autch98      auto4  \\\n0        0  34.461765  8.510845     0  129472.9042        0   3.925812   \n1        0  34.346348  8.478997     0  129413.0225        0  10.000000   \n2        0  77.000000  8.481015     0  130431.0145        0  10.000000   \n3        0  78.000000  8.451628     0  126781.6866        0  10.000000   \n4        0  79.000000  8.500172     0  130979.2470        0  10.000000   \n\n   autonomy   avgnabo  centpol3  ...    seceduc  second  semipol3     sip2  \\\n0  0.005151  0.432955         1  ...  43.770298   0.253  0.058441  0.46176   \n1  0.000000  0.045052         1  ...  43.588363   0.253  0.000000  0.00000   \n2  0.000000  0.030034         1  ...  43.538181   0.253  0.000000  0.00000   \n3  0.000000  0.022526         1  ...  43.490005   0.253  0.000000  0.00000   \n4  0.000000  0.022526         1  ...  43.602238   0.253  0.000000  0.00000   \n\n     sxpnew     sxpsq   tnatwar      trade  warhist    xconst  \n0  0.158275  0.052989  0.443259  72.881375        0  3.995912  \n1  0.158321  0.052663  1.000000  72.900089        0  1.000000  \n2  0.158425  0.052891  2.000000  72.962880        0  1.000000  \n3  0.159006  0.052902  2.000000  73.102449        0  1.000000  \n4  0.158074  0.052706  2.000000  72.850389        0  1.000000  \n\n[5 rows x 91 columns]",
      "text/html": "<div>\n<style scoped>\n    .dataframe tbody tr th:only-of-type {\n        vertical-align: middle;\n    }\n\n    .dataframe tbody tr th {\n        vertical-align: top;\n    }\n\n    .dataframe thead th {\n        text-align: right;\n    }\n</style>\n<table border=\"1\" class=\"dataframe\">\n  <thead>\n    <tr style=\"text-align: right;\">\n      <th></th>\n      <th>warstds</th>\n      <th>ager</th>\n      <th>agexp</th>\n      <th>anoc</th>\n      <th>army85</th>\n      <th>autch98</th>\n      <th>auto4</th>\n      <th>autonomy</th>\n      <th>avgnabo</th>\n      <th>centpol3</th>\n      <th>...</th>\n      <th>seceduc</th>\n      <th>second</th>\n      <th>semipol3</th>\n      <th>sip2</th>\n      <th>sxpnew</th>\n      <th>sxpsq</th>\n      <th>tnatwar</th>\n      <th>trade</th>\n      <th>warhist</th>\n      <th>xconst</th>\n    </tr>\n  </thead>\n  <tbody>\n    <tr>\n      <th>0</th>\n      <td>0</td>\n      <td>34.461765</td>\n      <td>8.510845</td>\n      <td>0</td>\n      <td>129472.9042</td>\n      <td>0</td>\n      <td>3.925812</td>\n      <td>0.005151</td>\n      <td>0.432955</td>\n      <td>1</td>\n      <td>...</td>\n      <td>43.770298</td>\n      <td>0.253</td>\n      <td>0.058441</td>\n      <td>0.46176</td>\n      <td>0.158275</td>\n      <td>0.052989</td>\n      <td>0.443259</td>\n      <td>72.881375</td>\n      <td>0</td>\n      <td>3.995912</td>\n    </tr>\n    <tr>\n      <th>1</th>\n      <td>0</td>\n      <td>34.346348</td>\n      <td>8.478997</td>\n      <td>0</td>\n      <td>129413.0225</td>\n      <td>0</td>\n      <td>10.000000</td>\n      <td>0.000000</td>\n      <td>0.045052</td>\n      <td>1</td>\n      <td>...</td>\n      <td>43.588363</td>\n      <td>0.253</td>\n      <td>0.000000</td>\n      <td>0.00000</td>\n      <td>0.158321</td>\n      <td>0.052663</td>\n      <td>1.000000</td>\n      <td>72.900089</td>\n      <td>0</td>\n      <td>1.000000</td>\n    </tr>\n    <tr>\n      <th>2</th>\n      <td>0</td>\n      <td>77.000000</td>\n      <td>8.481015</td>\n      <td>0</td>\n      <td>130431.0145</td>\n      <td>0</td>\n      <td>10.000000</td>\n      <td>0.000000</td>\n      <td>0.030034</td>\n      <td>1</td>\n      <td>...</td>\n      <td>43.538181</td>\n      <td>0.253</td>\n      <td>0.000000</td>\n      <td>0.00000</td>\n      <td>0.158425</td>\n      <td>0.052891</td>\n      <td>2.000000</td>\n      <td>72.962880</td>\n      <td>0</td>\n      <td>1.000000</td>\n    </tr>\n    <tr>\n      <th>3</th>\n      <td>0</td>\n      <td>78.000000</td>\n      <td>8.451628</td>\n      <td>0</td>\n      <td>126781.6866</td>\n      <td>0</td>\n      <td>10.000000</td>\n      <td>0.000000</td>\n      <td>0.022526</td>\n      <td>1</td>\n      <td>...</td>\n      <td>43.490005</td>\n      <td>0.253</td>\n      <td>0.000000</td>\n      <td>0.00000</td>\n      <td>0.159006</td>\n      <td>0.052902</td>\n      <td>2.000000</td>\n      <td>73.102449</td>\n      <td>0</td>\n      <td>1.000000</td>\n    </tr>\n    <tr>\n      <th>4</th>\n      <td>0</td>\n      <td>79.000000</td>\n      <td>8.500172</td>\n      <td>0</td>\n      <td>130979.2470</td>\n      <td>0</td>\n      <td>10.000000</td>\n      <td>0.000000</td>\n      <td>0.022526</td>\n      <td>1</td>\n      <td>...</td>\n      <td>43.602238</td>\n      <td>0.253</td>\n      <td>0.000000</td>\n      <td>0.00000</td>\n      <td>0.158074</td>\n      <td>0.052706</td>\n      <td>2.000000</td>\n      <td>72.850389</td>\n      <td>0</td>\n      <td>1.000000</td>\n    </tr>\n  </tbody>\n</table>\n<p>5 rows × 91 columns</p>\n</div>"
     },
     "execution_count": 2,
     "metadata": {},
     "output_type": "execute_result"
    }
   ],
   "source": [
    "# Loading data contained in a csv file.\n",
    "\n",
    "data = pd.read_csv('SambnisImp.csv')\n",
    "\n",
    "# Filtering of the initial table to keep only the 91 useful variables.\n",
    "data_filtred = data[[\"warstds\", \"ager\", \"agexp\", \"anoc\", \"army85\", \"autch98\", \"auto4\",\n",
    "    \"autonomy\", \"avgnabo\", \"centpol3\", \"coldwar\", \"decade1\", \"decade2\",\n",
    "    \"decade3\", \"decade4\", \"dem\", \"dem4\", \"demch98\", \"dlang\", \"drel\", \"durable\",\n",
    "    \"ef\", \"ef2\", \"ehet\", \"elfo\", \"elfo2\", \"etdo4590\", \"expgdp\", \"exrec\",\n",
    "    \"fedpol3\", \"fuelexp\", \"gdpgrowth\", \"geo1\", \"geo2\", \"geo34\", \"geo57\",\n",
    "    \"geo69\", \"geo8\", \"illiteracy\", \"incumb\", \"infant\", \"inst\", \"inst3\", \"life\",\n",
    "    \"lmtnest\", \"ln_gdpen\", \"lpopns\", \"major\", \"manuexp\", \"milper\", \"mirps0\",\n",
    "    \"mirps1\", \"mirps2\", \"mirps3\", \"nat_war\", \"ncontig\", \"nmgdp\", \"nmdp4_alt\",\n",
    "    \"numlang\", \"nwstate\", \"oil\", \"p4mchg\", \"parcomp\", \"parreg\", \"part\",\n",
    "    \"partfree\", \"plural\", \"plurrel\", \"pol4\", \"pol4m\", \"pol4sq\", \"polch98\",\n",
    "    \"polcomp\", \"popdense\", \"presi\", \"pri\", \"proxregc\", \"ptime\", \"reg\",\n",
    "    \"regd4_alt\", \"relfrac\", \"seceduc\", \"second\", \"semipol3\", \"sip2\", \"sxpnew\",\n",
    "    \"sxpsq\", \"tnatwar\", \"trade\", \"warhist\", \"xconst\"]]\n",
    "\n",
    "# Display of the first lines of the filtered table\n",
    "data_filtred.head()"
   ],
   "metadata": {
    "collapsed": false,
    "pycharm": {
     "name": "#%%\n"
    }
   }
  },
  {
   "cell_type": "code",
   "execution_count": 3,
   "outputs": [
    {
     "data": {
      "text/plain": "<Figure size 432x288 with 1 Axes>",
      "image/png": "[encoded data removed]"
     },
     "metadata": {
      "needs_background": "light"
     },
     "output_type": "display_data"
    }
   ],
   "source": [
    "model = linear_model.LinearRegression()\n",
    "graph_title = \"Least square\"\n",
    "\n",
    "X = data_filtred\n",
    "X = X.drop('warstds',axis=1)\n",
    "y = data['warstds']\n",
    "\n",
    "# Predict the probabilities with a cross validation\n",
    "y_pred = cross_val_predict(model, X, y, cv=10)\n",
    "\n",
    "# Compute the False Positive Rate and True Positive Rate\n",
    "fpr, tpr, _ = roc_curve(y, y_pred[:])\n",
    "\n",
    "# Compute the area under the fpt-tpf curve\n",
    "auc_score = auc(fpr, tpr)\n",
    "\n",
    "# Stores the ROC curve plot for each model.\n",
    "plt.plot(fpr, tpr, label=\"88 variables\" + \" - {:.2f}\".format(auc_score))\n",
    "plt.xlabel(\"False Positive Rate\")\n",
    "plt.ylabel(\"True Positive Rate\")\n",
    "\n",
    "# Drawing ROC curves with the legend\n",
    "plt.legend(loc='lower right')\n",
    "# Adding the title according to the selected regression type\n",
    "plt.title(graph_title)\n",
    "plt.grid()\n",
    "plt.show()"
   ],
   "metadata": {
    "collapsed": false,
    "pycharm": {
     "name": "#%%\n"
    }
   }
  }
 ],
 "metadata": {
  "kernelspec": {
   "display_name": "Python 3",
   "language": "python",
   "name": "python3"
  },
  "language_info": {
   "codemirror_mode": {
    "name": "ipython",
    "version": 2
   },
   "file_extension": ".py",
   "mimetype": "text/x-python",
   "name": "python",
   "nbconvert_exporter": "python",
   "pygments_lexer": "ipython2",
   "version": "2.7.6"
  }
 },
 "nbformat": 4,
 "nbformat_minor": 0
}