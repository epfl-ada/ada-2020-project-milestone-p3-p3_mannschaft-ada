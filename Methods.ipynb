{
 "cells": [
  {
   "cell_type": "code",
   "execution_count": 124,
   "metadata": {},
   "outputs": [],
   "source": [
    "import pandas as pd\n",
    "import numpy as np\n",
    "import matplotlib.pyplot as plt\n",
    "import seaborn as sns \n",
    "%matplotlib inline\n",
    "\n",
    "# importing the libraries for logistic regression analysis\n",
    "from sklearn.linear_model import LogisticRegression\n",
    "from sklearn.neighbors import KNeighborsClassifier\n",
    "from sklearn.model_selection import cross_val_predict\n",
    "from sklearn.model_selection import cross_val_score\n",
    "from sklearn.metrics import mean_squared_error, auc, roc_curve\n",
    "from sklearn.ensemble import RandomForestClassifier\n",
    "from sklearn.model_selection import train_test_split"
   ]
  },
  {
   "cell_type": "code",
   "execution_count": 173,
   "metadata": {},
   "outputs": [],
   "source": [
    "# Reading the data file only with the provided fields for the regression analysis as done by authors\n",
    "\n",
    "fields = [\"warstds\", \"ager\", \"agexp\", \"anoc\", \"army85\", \"autch98\", \"auto4\",\n",
    "    \"autonomy\", \"avgnabo\", \"centpol3\", \"coldwar\", \"decade1\", \"decade2\",\n",
    "    \"decade3\", \"decade4\", \"dem\", \"dem4\", \"demch98\", \"dlang\", \"drel\", \"durable\",\n",
    "    \"ef\", \"ef2\", \"ehet\", \"elfo\", \"elfo2\", \"etdo4590\", \"expgdp\", \"exrec\",\n",
    "    \"fedpol3\", \"fuelexp\", \"gdpgrowth\", \"geo1\", \"geo2\", \"geo34\", \"geo57\",\n",
    "    \"geo69\", \"geo8\", \"illiteracy\", \"incumb\", \"infant\", \"inst\", \"inst3\", \"life\",\n",
    "    \"lmtnest\", \"ln_gdpen\", \"lpopns\", \"major\", \"manuexp\", \"milper\", \"mirps0\",\n",
    "    \"mirps1\", \"mirps2\", \"mirps3\", \"nat_war\", \"ncontig\", \"nmgdp\", \"nmdp4_alt\",\n",
    "    \"numlang\", \"nwstate\", \"oil\", \"p4mchg\", \"parcomp\", \"parreg\", \"part\",\n",
    "    \"partfree\", \"plural\", \"plurrel\", \"pol4\", \"pol4m\", \"pol4sq\", \"polch98\",\n",
    "    \"polcomp\", \"popdense\", \"presi\", \"pri\", \"proxregc\", \"ptime\", \"reg\",\n",
    "    \"regd4_alt\", \"relfrac\", \"seceduc\", \"second\", \"semipol3\", \"sip2\", \"sxpnew\",\n",
    "    \"sxpsq\", \"tnatwar\", \"trade\", \"warhist\", \"xconst\"]\n",
    "\n",
    "# Specifying the data folder and reading the corresponding csv file only with the fields mentioned above through the pandas library\n",
    "data_folder = ''\n",
    "df = pd.read_csv(data_folder + 'SambnisImp.csv', usecols=fields)\n",
    "df_2 = pd.read_csv(data_folder + 'Amelia.Imp3.csv')\n"
   ]
  },
  {
   "cell_type": "code",
   "execution_count": null,
   "metadata": {},
   "outputs": [],
   "source": []
  },
  {
   "cell_type": "code",
   "execution_count": 126,
   "metadata": {},
   "outputs": [],
   "source": [
    "# Variables for the model by Fearon and Laitin where they use the below feature vectors for prediction of onset of a civil war\n",
    "variables = [\"ln_gdpen\", \"lpopns\", \"lmtnest\",\n",
    "    \"ncontig\", \"oil\", \"nwstate\", \"inst3\", \"pol4\", \"ef\", \"relfrac\"]\n",
    "\n",
    "# Variables for the model by Collier and Hoeffler where they use the below feature vectors for prediction of onset of a civil war\n",
    "variables_collier = [\"sxpnew\", \"sxpsq\", \"ln_gdpen\", \"gdpgrowth\",\n",
    "    \"warhist\", \"lmtnest\", \"ef\", \"popdense\", \"lpopns\", \"coldwar\", \"seceduc\",\n",
    "    \"ptime\"]\n",
    "\n",
    "# Variables for the model by Hegre and Sambanis where they use the below feature vectors for prediction of onset of a civil war\n",
    "variables_hegre = [\"lpopns\", \"ln_gdpen\", \"inst3\", \"parreg\", \"geo34\",\n",
    "    \"proxregc\", \"gdpgrowth\", \"anoc\", \"partfree\", \"nat_war\", \"lmtnest\",\n",
    "    \"decade1\", \"pol4sq\", \"nwstate\", \"regd4_alt\", \"etdo4590\", \"milper\", \"geo1\",\n",
    "    \"tnatwar\", \"presi\"]\n"
   ]
  },
  {
   "cell_type": "code",
   "execution_count": 127,
   "metadata": {},
   "outputs": [
    {
     "data": {
      "text/html": [
       "<div>\n",
       "<style scoped>\n",
       "    .dataframe tbody tr th:only-of-type {\n",
       "        vertical-align: middle;\n",
       "    }\n",
       "\n",
       "    .dataframe tbody tr th {\n",
       "        vertical-align: top;\n",
       "    }\n",
       "\n",
       "    .dataframe thead th {\n",
       "        text-align: right;\n",
       "    }\n",
       "</style>\n",
       "<table border=\"1\" class=\"dataframe\">\n",
       "  <thead>\n",
       "    <tr style=\"text-align: right;\">\n",
       "      <th></th>\n",
       "      <th>warstds</th>\n",
       "      <th>ptime</th>\n",
       "      <th>autonomy</th>\n",
       "      <th>popdense</th>\n",
       "      <th>army85</th>\n",
       "      <th>milper</th>\n",
       "      <th>trade</th>\n",
       "      <th>nmgdp</th>\n",
       "      <th>autch98</th>\n",
       "      <th>demch98</th>\n",
       "      <th>...</th>\n",
       "      <th>mirps1</th>\n",
       "      <th>mirps2</th>\n",
       "      <th>mirps3</th>\n",
       "      <th>sxpsq</th>\n",
       "      <th>pol4sq</th>\n",
       "      <th>decade1</th>\n",
       "      <th>decade2</th>\n",
       "      <th>decade3</th>\n",
       "      <th>decade4</th>\n",
       "      <th>proxregc</th>\n",
       "    </tr>\n",
       "  </thead>\n",
       "  <tbody>\n",
       "    <tr>\n",
       "      <td>0</td>\n",
       "      <td>0</td>\n",
       "      <td>12</td>\n",
       "      <td>0.005151</td>\n",
       "      <td>118.554791</td>\n",
       "      <td>129472.9042</td>\n",
       "      <td>121.087366</td>\n",
       "      <td>72.881375</td>\n",
       "      <td>4508.131692</td>\n",
       "      <td>0</td>\n",
       "      <td>0</td>\n",
       "      <td>...</td>\n",
       "      <td>0.16935</td>\n",
       "      <td>0.313143</td>\n",
       "      <td>0.373714</td>\n",
       "      <td>0.052989</td>\n",
       "      <td>61.493014</td>\n",
       "      <td>0</td>\n",
       "      <td>0</td>\n",
       "      <td>0</td>\n",
       "      <td>0</td>\n",
       "      <td>0.143299</td>\n",
       "    </tr>\n",
       "    <tr>\n",
       "      <td>1</td>\n",
       "      <td>0</td>\n",
       "      <td>24</td>\n",
       "      <td>0.000000</td>\n",
       "      <td>117.756342</td>\n",
       "      <td>129413.0225</td>\n",
       "      <td>121.885359</td>\n",
       "      <td>72.900089</td>\n",
       "      <td>4491.340308</td>\n",
       "      <td>0</td>\n",
       "      <td>0</td>\n",
       "      <td>...</td>\n",
       "      <td>0.00000</td>\n",
       "      <td>1.000000</td>\n",
       "      <td>0.000000</td>\n",
       "      <td>0.052663</td>\n",
       "      <td>100.000000</td>\n",
       "      <td>0</td>\n",
       "      <td>0</td>\n",
       "      <td>0</td>\n",
       "      <td>0</td>\n",
       "      <td>1.000000</td>\n",
       "    </tr>\n",
       "    <tr>\n",
       "      <td>2</td>\n",
       "      <td>0</td>\n",
       "      <td>36</td>\n",
       "      <td>0.000000</td>\n",
       "      <td>118.280656</td>\n",
       "      <td>130431.0145</td>\n",
       "      <td>122.780608</td>\n",
       "      <td>72.962880</td>\n",
       "      <td>4484.267686</td>\n",
       "      <td>0</td>\n",
       "      <td>0</td>\n",
       "      <td>...</td>\n",
       "      <td>0.00000</td>\n",
       "      <td>1.000000</td>\n",
       "      <td>0.000000</td>\n",
       "      <td>0.052891</td>\n",
       "      <td>100.000000</td>\n",
       "      <td>0</td>\n",
       "      <td>0</td>\n",
       "      <td>0</td>\n",
       "      <td>0</td>\n",
       "      <td>1.000000</td>\n",
       "    </tr>\n",
       "    <tr>\n",
       "      <td>3</td>\n",
       "      <td>0</td>\n",
       "      <td>48</td>\n",
       "      <td>0.000000</td>\n",
       "      <td>118.325869</td>\n",
       "      <td>126781.6866</td>\n",
       "      <td>118.256427</td>\n",
       "      <td>73.102449</td>\n",
       "      <td>4474.082672</td>\n",
       "      <td>0</td>\n",
       "      <td>0</td>\n",
       "      <td>...</td>\n",
       "      <td>0.00000</td>\n",
       "      <td>1.000000</td>\n",
       "      <td>0.000000</td>\n",
       "      <td>0.052902</td>\n",
       "      <td>100.000000</td>\n",
       "      <td>0</td>\n",
       "      <td>0</td>\n",
       "      <td>0</td>\n",
       "      <td>0</td>\n",
       "      <td>1.000000</td>\n",
       "    </tr>\n",
       "    <tr>\n",
       "      <td>4</td>\n",
       "      <td>0</td>\n",
       "      <td>60</td>\n",
       "      <td>0.000000</td>\n",
       "      <td>118.312296</td>\n",
       "      <td>130979.2470</td>\n",
       "      <td>122.245074</td>\n",
       "      <td>72.850389</td>\n",
       "      <td>4497.299503</td>\n",
       "      <td>0</td>\n",
       "      <td>0</td>\n",
       "      <td>...</td>\n",
       "      <td>0.00000</td>\n",
       "      <td>1.000000</td>\n",
       "      <td>0.000000</td>\n",
       "      <td>0.052706</td>\n",
       "      <td>100.000000</td>\n",
       "      <td>0</td>\n",
       "      <td>0</td>\n",
       "      <td>0</td>\n",
       "      <td>0</td>\n",
       "      <td>1.000000</td>\n",
       "    </tr>\n",
       "  </tbody>\n",
       "</table>\n",
       "<p>5 rows × 91 columns</p>\n",
       "</div>"
      ],
      "text/plain": [
       "   warstds  ptime  autonomy    popdense       army85      milper      trade  \\\n",
       "0        0     12  0.005151  118.554791  129472.9042  121.087366  72.881375   \n",
       "1        0     24  0.000000  117.756342  129413.0225  121.885359  72.900089   \n",
       "2        0     36  0.000000  118.280656  130431.0145  122.780608  72.962880   \n",
       "3        0     48  0.000000  118.325869  126781.6866  118.256427  73.102449   \n",
       "4        0     60  0.000000  118.312296  130979.2470  122.245074  72.850389   \n",
       "\n",
       "         nmgdp  autch98  demch98  ...   mirps1    mirps2    mirps3     sxpsq  \\\n",
       "0  4508.131692        0        0  ...  0.16935  0.313143  0.373714  0.052989   \n",
       "1  4491.340308        0        0  ...  0.00000  1.000000  0.000000  0.052663   \n",
       "2  4484.267686        0        0  ...  0.00000  1.000000  0.000000  0.052891   \n",
       "3  4474.082672        0        0  ...  0.00000  1.000000  0.000000  0.052902   \n",
       "4  4497.299503        0        0  ...  0.00000  1.000000  0.000000  0.052706   \n",
       "\n",
       "       pol4sq  decade1  decade2  decade3  decade4  proxregc  \n",
       "0   61.493014        0        0        0        0  0.143299  \n",
       "1  100.000000        0        0        0        0  1.000000  \n",
       "2  100.000000        0        0        0        0  1.000000  \n",
       "3  100.000000        0        0        0        0  1.000000  \n",
       "4  100.000000        0        0        0        0  1.000000  \n",
       "\n",
       "[5 rows x 91 columns]"
      ]
     },
     "execution_count": 127,
     "metadata": {},
     "output_type": "execute_result"
    }
   ],
   "source": [
    "df.head()"
   ]
  },
  {
   "cell_type": "code",
   "execution_count": 17,
   "metadata": {},
   "outputs": [
    {
     "data": {
      "text/plain": [
       "(91,)"
      ]
     },
     "execution_count": 17,
     "metadata": {},
     "output_type": "execute_result"
    }
   ],
   "source": [
    "np.shape(fields)"
   ]
  },
  {
   "cell_type": "markdown",
   "metadata": {},
   "source": [
    "A total of 91 fields were read from the databse for the analysis"
   ]
  },
  {
   "cell_type": "code",
   "execution_count": 128,
   "metadata": {},
   "outputs": [],
   "source": [
    "# Defining the corresponding output values and feature vectors for training the different models. The output vector is \n",
    "# similar for each model while the feature vectors are different.\n",
    "# The output binary variable signalling the onset of civil war. 1 corresponds to a recorded civil war while 0 corresponds to otherwise\n",
    "y = df['warstds'] \n",
    "\n",
    "# All the variables can be used for training except the target variable which is warstds\n",
    "X = df.drop(['warstds'], axis=1)\n",
    "\n",
    "# Feature vectors for the model by Fearon and laitin (2003)\n",
    "X1 = df[variables]\n",
    "\n",
    "# Feature vectors for the model by Collier and Hoeffler (2004)\n",
    "X2 = df[variables_collier]\n",
    "\n",
    "## Feature vectors for the model by Hegre and Sambanis (2006)\n",
    "X3= df[variables_hegre]"
   ]
  },
  {
   "cell_type": "code",
   "execution_count": 129,
   "metadata": {},
   "outputs": [
    {
     "data": {
      "text/html": [
       "<div>\n",
       "<style scoped>\n",
       "    .dataframe tbody tr th:only-of-type {\n",
       "        vertical-align: middle;\n",
       "    }\n",
       "\n",
       "    .dataframe tbody tr th {\n",
       "        vertical-align: top;\n",
       "    }\n",
       "\n",
       "    .dataframe thead th {\n",
       "        text-align: right;\n",
       "    }\n",
       "</style>\n",
       "<table border=\"1\" class=\"dataframe\">\n",
       "  <thead>\n",
       "    <tr style=\"text-align: right;\">\n",
       "      <th></th>\n",
       "      <th>ptime</th>\n",
       "      <th>autonomy</th>\n",
       "      <th>popdense</th>\n",
       "      <th>army85</th>\n",
       "      <th>milper</th>\n",
       "      <th>trade</th>\n",
       "      <th>nmgdp</th>\n",
       "      <th>autch98</th>\n",
       "      <th>demch98</th>\n",
       "      <th>polch98</th>\n",
       "      <th>...</th>\n",
       "      <th>mirps1</th>\n",
       "      <th>mirps2</th>\n",
       "      <th>mirps3</th>\n",
       "      <th>sxpsq</th>\n",
       "      <th>pol4sq</th>\n",
       "      <th>decade1</th>\n",
       "      <th>decade2</th>\n",
       "      <th>decade3</th>\n",
       "      <th>decade4</th>\n",
       "      <th>proxregc</th>\n",
       "    </tr>\n",
       "  </thead>\n",
       "  <tbody>\n",
       "    <tr>\n",
       "      <td>0</td>\n",
       "      <td>12</td>\n",
       "      <td>0.005151</td>\n",
       "      <td>118.554791</td>\n",
       "      <td>129472.9042</td>\n",
       "      <td>121.087366</td>\n",
       "      <td>72.881375</td>\n",
       "      <td>4508.131692</td>\n",
       "      <td>0</td>\n",
       "      <td>0</td>\n",
       "      <td>0</td>\n",
       "      <td>...</td>\n",
       "      <td>0.16935</td>\n",
       "      <td>0.313143</td>\n",
       "      <td>0.373714</td>\n",
       "      <td>0.052989</td>\n",
       "      <td>61.493014</td>\n",
       "      <td>0</td>\n",
       "      <td>0</td>\n",
       "      <td>0</td>\n",
       "      <td>0</td>\n",
       "      <td>0.143299</td>\n",
       "    </tr>\n",
       "    <tr>\n",
       "      <td>1</td>\n",
       "      <td>24</td>\n",
       "      <td>0.000000</td>\n",
       "      <td>117.756342</td>\n",
       "      <td>129413.0225</td>\n",
       "      <td>121.885359</td>\n",
       "      <td>72.900089</td>\n",
       "      <td>4491.340308</td>\n",
       "      <td>0</td>\n",
       "      <td>0</td>\n",
       "      <td>0</td>\n",
       "      <td>...</td>\n",
       "      <td>0.00000</td>\n",
       "      <td>1.000000</td>\n",
       "      <td>0.000000</td>\n",
       "      <td>0.052663</td>\n",
       "      <td>100.000000</td>\n",
       "      <td>0</td>\n",
       "      <td>0</td>\n",
       "      <td>0</td>\n",
       "      <td>0</td>\n",
       "      <td>1.000000</td>\n",
       "    </tr>\n",
       "    <tr>\n",
       "      <td>2</td>\n",
       "      <td>36</td>\n",
       "      <td>0.000000</td>\n",
       "      <td>118.280656</td>\n",
       "      <td>130431.0145</td>\n",
       "      <td>122.780608</td>\n",
       "      <td>72.962880</td>\n",
       "      <td>4484.267686</td>\n",
       "      <td>0</td>\n",
       "      <td>0</td>\n",
       "      <td>0</td>\n",
       "      <td>...</td>\n",
       "      <td>0.00000</td>\n",
       "      <td>1.000000</td>\n",
       "      <td>0.000000</td>\n",
       "      <td>0.052891</td>\n",
       "      <td>100.000000</td>\n",
       "      <td>0</td>\n",
       "      <td>0</td>\n",
       "      <td>0</td>\n",
       "      <td>0</td>\n",
       "      <td>1.000000</td>\n",
       "    </tr>\n",
       "    <tr>\n",
       "      <td>3</td>\n",
       "      <td>48</td>\n",
       "      <td>0.000000</td>\n",
       "      <td>118.325869</td>\n",
       "      <td>126781.6866</td>\n",
       "      <td>118.256427</td>\n",
       "      <td>73.102449</td>\n",
       "      <td>4474.082672</td>\n",
       "      <td>0</td>\n",
       "      <td>0</td>\n",
       "      <td>0</td>\n",
       "      <td>...</td>\n",
       "      <td>0.00000</td>\n",
       "      <td>1.000000</td>\n",
       "      <td>0.000000</td>\n",
       "      <td>0.052902</td>\n",
       "      <td>100.000000</td>\n",
       "      <td>0</td>\n",
       "      <td>0</td>\n",
       "      <td>0</td>\n",
       "      <td>0</td>\n",
       "      <td>1.000000</td>\n",
       "    </tr>\n",
       "    <tr>\n",
       "      <td>4</td>\n",
       "      <td>60</td>\n",
       "      <td>0.000000</td>\n",
       "      <td>118.312296</td>\n",
       "      <td>130979.2470</td>\n",
       "      <td>122.245074</td>\n",
       "      <td>72.850389</td>\n",
       "      <td>4497.299503</td>\n",
       "      <td>0</td>\n",
       "      <td>0</td>\n",
       "      <td>0</td>\n",
       "      <td>...</td>\n",
       "      <td>0.00000</td>\n",
       "      <td>1.000000</td>\n",
       "      <td>0.000000</td>\n",
       "      <td>0.052706</td>\n",
       "      <td>100.000000</td>\n",
       "      <td>0</td>\n",
       "      <td>0</td>\n",
       "      <td>0</td>\n",
       "      <td>0</td>\n",
       "      <td>1.000000</td>\n",
       "    </tr>\n",
       "  </tbody>\n",
       "</table>\n",
       "<p>5 rows × 90 columns</p>\n",
       "</div>"
      ],
      "text/plain": [
       "   ptime  autonomy    popdense       army85      milper      trade  \\\n",
       "0     12  0.005151  118.554791  129472.9042  121.087366  72.881375   \n",
       "1     24  0.000000  117.756342  129413.0225  121.885359  72.900089   \n",
       "2     36  0.000000  118.280656  130431.0145  122.780608  72.962880   \n",
       "3     48  0.000000  118.325869  126781.6866  118.256427  73.102449   \n",
       "4     60  0.000000  118.312296  130979.2470  122.245074  72.850389   \n",
       "\n",
       "         nmgdp  autch98  demch98  polch98  ...   mirps1    mirps2    mirps3  \\\n",
       "0  4508.131692        0        0        0  ...  0.16935  0.313143  0.373714   \n",
       "1  4491.340308        0        0        0  ...  0.00000  1.000000  0.000000   \n",
       "2  4484.267686        0        0        0  ...  0.00000  1.000000  0.000000   \n",
       "3  4474.082672        0        0        0  ...  0.00000  1.000000  0.000000   \n",
       "4  4497.299503        0        0        0  ...  0.00000  1.000000  0.000000   \n",
       "\n",
       "      sxpsq      pol4sq  decade1  decade2  decade3  decade4  proxregc  \n",
       "0  0.052989   61.493014        0        0        0        0  0.143299  \n",
       "1  0.052663  100.000000        0        0        0        0  1.000000  \n",
       "2  0.052891  100.000000        0        0        0        0  1.000000  \n",
       "3  0.052902  100.000000        0        0        0        0  1.000000  \n",
       "4  0.052706  100.000000        0        0        0        0  1.000000  \n",
       "\n",
       "[5 rows x 90 columns]"
      ]
     },
     "execution_count": 129,
     "metadata": {},
     "output_type": "execute_result"
    }
   ],
   "source": [
    "X.head()"
   ]
  },
  {
   "cell_type": "code",
   "execution_count": 130,
   "metadata": {},
   "outputs": [],
   "source": [
    "# Evaluating all the columns which are continuous so that they can be normalised. A feature is considered continuous if it has \n",
    "#more than 5 unique entries\n",
    "\n",
    "continuous =[]\n",
    "for j in fields:\n",
    "    if (df[j].nunique())>5:\n",
    "        continuous.append(str(j))\n",
    "    else:\n",
    "        continue\n",
    "   "
   ]
  },
  {
   "cell_type": "code",
   "execution_count": 131,
   "metadata": {},
   "outputs": [
    {
     "data": {
      "text/plain": [
       "(74,)"
      ]
     },
     "execution_count": 131,
     "metadata": {},
     "output_type": "execute_result"
    }
   ],
   "source": [
    "np.shape(continuous)"
   ]
  },
  {
   "cell_type": "markdown",
   "metadata": {},
   "source": [
    "There are a total of 74 continuous features out of 91 total fields and rest 17 are categorical variables"
   ]
  },
  {
   "cell_type": "code",
   "execution_count": null,
   "metadata": {},
   "outputs": [],
   "source": []
  },
  {
   "cell_type": "code",
   "execution_count": 133,
   "metadata": {},
   "outputs": [],
   "source": [
    "# Standardising all the continuous features for better scaling of variables\n",
    "\n",
    "for j in continuous:\n",
    "    X[j] = (X[j] - X[j].mean())/X[j].std()"
   ]
  },
  {
   "cell_type": "markdown",
   "metadata": {},
   "source": [
    "Fitting a SVM to the dataset for predicting the onset of civil war. Instead of binary prediction, we will fit a SVM which outputs the \n",
    "probability of belonging to a class so that we can plot a ROC curve by varying the threshold probability and obtain the respective AUC. "
   ]
  },
  {
   "cell_type": "code",
   "execution_count": 165,
   "metadata": {},
   "outputs": [],
   "source": [
    "from sklearn import svm\n",
    "# fitting a svm model with default parameters\n",
    "model_Svm = svm.SVC(probability = True, gamma = 'scale')\n"
   ]
  },
  {
   "cell_type": "code",
   "execution_count": 166,
   "metadata": {},
   "outputs": [
    {
     "data": {
      "text/plain": [
       "SVC(C=1.0, cache_size=200, class_weight=None, coef0=0.0,\n",
       "    decision_function_shape='ovr', degree=3, gamma='scale', kernel='rbf',\n",
       "    max_iter=-1, probability=True, random_state=None, shrinking=True, tol=0.001,\n",
       "    verbose=False)"
      ]
     },
     "execution_count": 166,
     "metadata": {},
     "output_type": "execute_result"
    }
   ],
   "source": [
    "model_Svm"
   ]
  },
  {
   "cell_type": "code",
   "execution_count": 167,
   "metadata": {},
   "outputs": [],
   "source": [
    "# Training the model by cross validation. Employing cross validation is preferable to just training on the whole\n",
    "# dataset and predicting on the same dataset as the latter approach entails overfitting. \n",
    "\n",
    "# Predict the probabilities with a cross validation\n",
    "y_pred3 = cross_val_predict(model_Svm, X, y, cv=5,method='predict_proba')\n",
    "# Compute the False Positive Rate and True Positive Rate\n",
    "fpr3, tpr3, _ = roc_curve(y, y_pred3[:,1])\n",
    "# Compute the area under the fpr-tpr curve\n",
    "auc_score3 = auc(fpr3, tpr3)"
   ]
  },
  {
   "cell_type": "code",
   "execution_count": 168,
   "metadata": {},
   "outputs": [
    {
     "data": {
      "image/png": "[encoded data removed]",
      "text/plain": [
       "<Figure size 432x288 with 1 Axes>"
      ]
     },
     "metadata": {
      "needs_background": "light"
     },
     "output_type": "display_data"
    }
   ],
   "source": [
    "plt.plot(fpr3, tpr3, 'b', label =\"SVM: \" + str(round(auc_score3,2)))\n",
    "plt.xlabel(\"False Positive Rate\")\n",
    "plt.ylabel(\"True Positive Rate\")\n",
    "plt.title(\"ROC Curve\");\n",
    "plt.legend(loc=\"lower right\",title=\"AUC value\")\n",
    "plt.show()"
   ]
  },
  {
   "cell_type": "markdown",
   "metadata": {},
   "source": []
  },
  {
   "cell_type": "markdown",
   "metadata": {},
   "source": [
    "We will try to use a neural network to classify the dataset according to the variables. As neural networks have been shown to have a higher accuracy than the traditional methods, it is expected that this should lead to a better AUC"
   ]
  },
  {
   "cell_type": "code",
   "execution_count": 140,
   "metadata": {},
   "outputs": [],
   "source": [
    "from sklearn.neural_network import MLPClassifier"
   ]
  },
  {
   "cell_type": "code",
   "execution_count": 149,
   "metadata": {},
   "outputs": [],
   "source": [
    "mlp = MLPClassifier()\n",
    "\n"
   ]
  },
  {
   "cell_type": "code",
   "execution_count": 150,
   "metadata": {},
   "outputs": [
    {
     "name": "stderr",
     "output_type": "stream",
     "text": [
      "C:\\Users\\Anshul Toshniwal\\Anaconda3\\lib\\site-packages\\sklearn\\neural_network\\multilayer_perceptron.py:566: ConvergenceWarning: Stochastic Optimizer: Maximum iterations (200) reached and the optimization hasn't converged yet.\n",
      "  % self.max_iter, ConvergenceWarning)\n",
      "C:\\Users\\Anshul Toshniwal\\Anaconda3\\lib\\site-packages\\sklearn\\neural_network\\multilayer_perceptron.py:566: ConvergenceWarning: Stochastic Optimizer: Maximum iterations (200) reached and the optimization hasn't converged yet.\n",
      "  % self.max_iter, ConvergenceWarning)\n"
     ]
    }
   ],
   "source": [
    "# Training the model by cross validation. Employing cross validation is preferable to just training on the whole\n",
    "# dataset and predicting on the same dataset as the latter approach entails overfitting. \n",
    "\n",
    "# Predict the probabilities with a cross validation\n",
    "y_pred2 = cross_val_predict(mlp, X, y, cv=5, method=\"predict_proba\")\n",
    "# Compute the False Positive Rate and True Positive Rate\n",
    "fpr2, tpr2, _ = roc_curve(y, y_pred2[:, 1])\n",
    "# Compute the area under the fpr-tpr curve\n",
    "auc_score2 = auc(fpr2, tpr2)"
   ]
  },
  {
   "cell_type": "code",
   "execution_count": 151,
   "metadata": {},
   "outputs": [
    {
     "data": {
      "image/png": "[encoded data removed]",
      "text/plain": [
       "<Figure size 432x288 with 1 Axes>"
      ]
     },
     "metadata": {
      "needs_background": "light"
     },
     "output_type": "display_data"
    }
   ],
   "source": [
    "plt.plot(fpr2, tpr2, 'g', label =\"Neural network: \" + str(round(auc_score2,2)))\n",
    "plt.xlabel(\"False Positive Rate\")\n",
    "plt.ylabel(\"True Positive Rate\")\n",
    "plt.title(\"ROC Curve\");\n",
    "plt.legend(loc=\"lower right\",title=\"AUC values\")\n",
    "plt.show()"
   ]
  },
  {
   "cell_type": "code",
   "execution_count": null,
   "metadata": {},
   "outputs": [],
   "source": []
  },
  {
   "cell_type": "code",
   "execution_count": null,
   "metadata": {},
   "outputs": [],
   "source": []
  },
  {
   "cell_type": "markdown",
   "metadata": {},
   "source": [
    "We also try to implement the simplest method of classification, bayes classifier, to benchmark the accuracy of other methods"
   ]
  },
  {
   "cell_type": "code",
   "execution_count": 152,
   "metadata": {},
   "outputs": [],
   "source": [
    "from sklearn.naive_bayes import GaussianNB\n",
    "model_naive = GaussianNB()"
   ]
  },
  {
   "cell_type": "code",
   "execution_count": 169,
   "metadata": {},
   "outputs": [
    {
     "data": {
      "text/plain": [
       "GaussianNB(priors=None, var_smoothing=1e-09)"
      ]
     },
     "execution_count": 169,
     "metadata": {},
     "output_type": "execute_result"
    }
   ],
   "source": [
    "model_naive"
   ]
  },
  {
   "cell_type": "code",
   "execution_count": 153,
   "metadata": {},
   "outputs": [],
   "source": [
    "# Training the model by Fearon and laitin by cross validation. Employing cross validation is preferable to just training on the whole\n",
    "# dataset and predicting on the same dataset as the latter approach entails overfitting. \n",
    "\n",
    "# Predict the probabilities with a cross validation\n",
    "y_pred = cross_val_predict(model_naive, X, y, cv=5, method=\"predict_proba\")\n",
    "# Compute the False Positive Rate and True Positive Rate\n",
    "fpr1, tpr1, _ = roc_curve(y, y_pred[:, 1])\n",
    "# Compute the area under the fpr-tpr curve\n",
    "auc_score = auc(fpr1, tpr1)"
   ]
  },
  {
   "cell_type": "code",
   "execution_count": 154,
   "metadata": {},
   "outputs": [
    {
     "data": {
      "image/png": "[encoded data removed]",
      "text/plain": [
       "<Figure size 432x288 with 1 Axes>"
      ]
     },
     "metadata": {
      "needs_background": "light"
     },
     "output_type": "display_data"
    }
   ],
   "source": [
    "plt.plot(fpr1, tpr1, 'r', label =\"Naive Bayes rule: \" + str(round(auc_score,2)))\n",
    "plt.xlabel(\"False Positive Rate\")\n",
    "plt.ylabel(\"True Positive Rate\")\n",
    "plt.title(\"ROC Curve\");\n",
    "plt.legend(loc=\"lower right\",title=\"AUC values\")\n",
    "plt.show()"
   ]
  },
  {
   "cell_type": "code",
   "execution_count": null,
   "metadata": {},
   "outputs": [],
   "source": []
  },
  {
   "cell_type": "code",
   "execution_count": null,
   "metadata": {},
   "outputs": [],
   "source": []
  }
 ],
 "metadata": {
  "kernelspec": {
   "display_name": "Python 3",
   "language": "python",
   "name": "python3"
  },
  "language_info": {
   "codemirror_mode": {
    "name": "ipython",
    "version": 3
   },
   "file_extension": ".py",
   "mimetype": "text/x-python",
   "name": "python",
   "nbconvert_exporter": "python",
   "pygments_lexer": "ipython3",
   "version": "3.7.4"
  }
 },
 "nbformat": 4,
 "nbformat_minor": 4
}
